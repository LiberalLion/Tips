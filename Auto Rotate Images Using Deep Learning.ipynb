{
 "cells": [
  {
   "cell_type": "markdown",
   "metadata": {},
   "source": [
    "https://www.kdnuggets.com/2020/07/auto-rotate-images-deep-learning.html"
   ]
  },
  {
   "cell_type": "code",
   "execution_count": 1,
   "metadata": {},
   "outputs": [],
   "source": [
    "import cv2\n",
    "import numpy as np"
   ]
  },
  {
   "cell_type": "code",
   "execution_count": null,
   "metadata": {},
   "outputs": [],
   "source": [
    "def main(): \n",
    " frame = cv2.imread(‘6.jpg’) #input image\n",
    " original_status = detect_face(frame) #detect face exist(TRUE) or not(FALSE)\n",
    " (h, w) = frame.shape[:2] #get height and width of image\n",
    " # calculate the center of the image\n",
    " center = (w / 2, h / 2) #getting centre values\n",
    " scale = 1.0 #scale mag of image\n",
    " angle_90 = 90 #angle 90DEGREE\n",
    " angle_180 = 180#angle_180DEGREE\n",
    " angle_270 = 270#angle_270DEGREE\n",
    " if original_status is None: #image is not the correct angle hence we need to rotate the image angle as per below angles step by step.\n",
    " status_90 = rotate_image(frame,center,scale,angle_90)#ROTATE 90 DEGREE\n",
    "   if status_90 is None:\n",
    "    status_180 = rotate_image(frame,center,scale,angle_180)#ROTATE 180DEGREE\n",
    "      if status_180 is None:\n",
    "         status_270 = rotate_image(frame,center,scale, angle_270)#ROTATE 270DEGREE"
   ]
  },
  {
   "cell_type": "code",
   "execution_count": null,
   "metadata": {},
   "outputs": [],
   "source": [
    "def detect_face(frame):net = cv2.dnn.readNetFromCaffe(‘deploy.prototxt’,‘res10_300x300_ssd_iter_140000.caffemodel’)\n",
    " \n",
    "    (h, w) = frame.shape[:2]blob = cv2.dnn.blobFromImage(cv2.resize(frame,(300,300)), 1.0,   (300,300), (104.0,177.0,123.0))net.setInput(blob)faces = net.forward()for i in range(0, faces.shape[2]):\n",
    "     confidence = faces[0,0,i,2]\n",
    " \n",
    "    if confidence < 0.7:\n",
    "      continuebox = faces[0,0,i,3:7] * np.array([w,h,w,h])\n",
    "  (startX, startY, endX, endY) = box.astype(‘int’)text = “face “ + “{:.2f}%”.format(confidence * 100)cv2.imwrite(‘test.jpg’,frame)\n",
    "    return True"
   ]
  },
  {
   "cell_type": "code",
   "execution_count": null,
   "metadata": {},
   "outputs": [],
   "source": [
    "def rotate_image(frame,center,scale,angle):\n",
    " (h, w) = frame.shape[:2]\n",
    " M = cv2.getRotationMatrix2D(center, angle, scale)\n",
    " frame = cv2.warpAffine(frame, M, (h, w))\n",
    " return detect_face(frame)"
   ]
  }
 ],
 "metadata": {
  "kernelspec": {
   "display_name": "Python 3",
   "language": "python",
   "name": "python3"
  },
  "language_info": {
   "codemirror_mode": {
    "name": "ipython",
    "version": 3
   },
   "file_extension": ".py",
   "mimetype": "text/x-python",
   "name": "python",
   "nbconvert_exporter": "python",
   "pygments_lexer": "ipython3",
   "version": "3.7.3"
  }
 },
 "nbformat": 4,
 "nbformat_minor": 4
}
